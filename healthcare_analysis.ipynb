{
 "cells": [
  {
   "cell_type": "code",
   "execution_count": 76,
   "metadata": {},
   "outputs": [],
   "source": [
    "import pandas as pd\n",
    "import numpy as np"
   ]
  },
  {
   "cell_type": "code",
   "execution_count": 77,
   "metadata": {},
   "outputs": [],
   "source": [
    "census16 = pd.read_csv('census_data_2016.csv')\n",
    "census17 = pd.read_csv('census_data_2017.csv')\n",
    "census18 = pd.read_csv('census_data_2018.csv')"
   ]
  },
  {
   "cell_type": "code",
   "execution_count": 78,
   "metadata": {},
   "outputs": [],
   "source": [
    "# For our own convenience, let's write a dictionary to easily get a state's code.\n",
    "statecodes = ['01','02','04','05','06','08','09','10','11','12',\n",
    "              '13','15','16','17','18','19','20','21','22','23',\n",
    "              '24','25','26','27','28','29','30','31','32','33',\n",
    "              '34','35','36','37','38','39','40','41','42','44',\n",
    "              '45','46','47','48','49','50','51','53','54','55',\n",
    "              '56'] # state codes\n",
    "states = ['Alabama', 'Alaska', 'Arizona', 'Arkansas', 'California', 'Colorado', 'Connecticut', 'Delaware', \n",
    "          'DC', 'Florida', 'Georgia', 'Hawaii', 'Idaho', 'Illinois', 'Indiana', 'Iowa', 'Kansas', 'Kentucky',\n",
    "          'Louisiana', 'Maine', 'Maryland', 'Massachusetts', 'Michigan', 'Minnesota', 'Mississippi', 'Missouri',\n",
    "          'Montana', 'Nebraska', 'Nevada', 'New Hampshire', 'New Jersey', 'New Mexico', 'New York', 'North Carolina',\n",
    "          'North Dakota', 'Ohio', 'Oklahoma', 'Oregon', 'Pennsylvania', 'Rhose Island', 'Sourth Carolina', \n",
    "          'South Dakota', 'Tennessee', 'Texas', 'Utah', 'Vermont', 'Virginia', 'Washington', 'West Virginia',\n",
    "          'Wisconsin', 'Wyoming'] # states to go with codes\n",
    "state_code_dict = dict(zip(states,statecodes))\n",
    "code_state_dict = dict(zip(statecodes,states))"
   ]
  },
  {
   "cell_type": "code",
   "execution_count": null,
   "metadata": {},
   "outputs": [],
   "source": [
    "# Dataframe: 2016 sample for US-citizen children with non-nat parents\n",
    "init = 0\n",
    "column_names = ['State','Total US-cit children native parents','Total US-cit children native parents uninsured',\n",
    "                'Total US-cit children native parents medicaid', 'Total US-cit children non-native parents', \n",
    "                'Total US-cit children non-native parents uninsured','Total US-cit children non-native parents medicaid']\n",
    "for state, code in zip(states,statecodes):\n",
    "    statedf = census16[census16['ST'] == int(code)] # For this state\n",
    "    childrendf = statedf[statedf['AGEP'] <= 19] # Get the Children\n",
    "    childrendf = childrendf[childrendf['CIT'].isin([1,2,3,4])] # That are citizens\n",
    "    \n",
    "    childrendf_native = childrendf[childrendf['NOP'].isin([1,5,7])] # That have native parents\n",
    "    total_sample = childrendf_native['PWGTP'].sum() # total children like this\n",
    "    total_uninsur = childrendf_native[childrendf_native['HICOV'] == 2].PWGTP.sum() # total uninsured children liek this\n",
    "    total_medicaid = childrendf_native[childrendf_native['HINS4'] == 1].PWGTP.sum() # total on medicaid\n",
    "    \n",
    "    childrendf_nonnative = childrendf[childrendf['NOP'].isin([2,3,4,6,8])] # That have non-native parents\n",
    "    total_sample_non = childrendf_nonnative['PWGTP'].sum()\n",
    "    total_uninsur_non = childrendf_nonnative[childrendf_nonnative['HICOV'] == 2].PWGTP.sum()\n",
    "    total_medicaid_non = childrendf_nonnative[childrendf_nonnative['HINS4'] == 1].PWGTP.sum()\n",
    "    \n",
    "    values = [state, total_sample, total_uninsur, total_medicaid, total_sample_non, total_uninsur_non, total_medicaid_non]\n",
    "    if init == 0:\n",
    "        statesdf16 = pd.DataFrame([values], columns = column_names)\n",
    "        init = 1\n",
    "    else:\n",
    "        statesdf16 = statesdf16.append(pd.DataFrame([values], columns = column_names))\n",
    "        "
   ]
  },
  {
   "cell_type": "code",
   "execution_count": null,
   "metadata": {},
   "outputs": [],
   "source": [
    "# Dataframe: 2017 sample for US-citizen children with non-nat parents\n",
    "init = 0\n",
    "column_names = ['State','Total US-cit children native parents','Total US-cit children native parents uninsured',\n",
    "                'Total US-cit children native parents medicaid', 'Total US-cit children non-native parents', \n",
    "                'Total US-cit children non-native parents uninsured','Total US-cit children non-native parents medicaid']\n",
    "for state, code in zip(states,statecodes):\n",
    "    statedf = census17[census17['ST'] == int(code)] # For this state\n",
    "    childrendf = statedf[statedf['AGEP'] <= 19] # Get the Children\n",
    "    childrendf = childrendf[childrendf['CIT'].isin([1,2,3,4])] # That are citizens\n",
    "    \n",
    "    childrendf_native = childrendf[childrendf['NOP'].isin([1,5,7])] # That have native parents\n",
    "    total_sample = childrendf_native['PWGTP'].sum() # total children like this\n",
    "    total_uninsur = childrendf_native[childrendf_native['HICOV'] == 2].PWGTP.sum() # total uninsured children liek this\n",
    "    total_medicaid = childrendf_native[childrendf_native['HINS4'] == 1].PWGTP.sum() # total on medicaid\n",
    "    \n",
    "    childrendf_nonnative = childrendf[childrendf['NOP'].isin([2,3,4,6,8])] # That have non-native parents\n",
    "    total_sample_non = childrendf_nonnative['PWGTP'].sum()\n",
    "    total_uninsur_non = childrendf_nonnative[childrendf_nonnative['HICOV'] == 2].PWGTP.sum()\n",
    "    total_medicaid_non = childrendf_nonnative[childrendf_nonnative['HINS4'] == 1].PWGTP.sum()\n",
    "    \n",
    "    values = [state, total_sample, total_uninsur, total_medicaid, total_sample_non, total_uninsur_non, total_medicaid_non]\n",
    "    if init == 0:\n",
    "        statesdf17 = pd.DataFrame([values], columns = column_names)\n",
    "        init = 1\n",
    "    else:\n",
    "        statesdf17 = statesdf16.append(pd.DataFrame([values], columns = column_names))\n",
    "        "
   ]
  },
  {
   "cell_type": "code",
   "execution_count": null,
   "metadata": {},
   "outputs": [],
   "source": [
    "# Dataframe: 2017 sample for US-citizen children with non-nat parents\n",
    "init = 0\n",
    "column_names = ['State','Total US-cit children native parents','Total US-cit children native parents uninsured',\n",
    "                'Total US-cit children native parents medicaid', 'Total US-cit children non-native parents', \n",
    "                'Total US-cit children non-native parents uninsured','Total US-cit children non-native parents medicaid']\n",
    "for state, code in zip(states,statecodes):\n",
    "    statedf = census18[census18['ST'] == int(code)] # For this state\n",
    "    childrendf = statedf[statedf['AGEP'] <= 19] # Get the Children\n",
    "    childrendf = childrendf[childrendf['CIT'].isin([1,2,3,4])] # That are citizens\n",
    "    \n",
    "    childrendf_native = childrendf[childrendf['NOP'].isin([1,5,7])] # That have native parents\n",
    "    total_sample = childrendf_native['PWGTP'].sum() # total children like this\n",
    "    total_uninsur = childrendf_native[childrendf_native['HICOV'] == 2].PWGTP.sum() # total uninsured children liek this\n",
    "    total_medicaid = childrendf_native[childrendf_native['HINS4'] == 1].PWGTP.sum() # total on medicaid\n",
    "    \n",
    "    childrendf_nonnative = childrendf[childrendf['NOP'].isin([2,3,4,6,8])] # That have non-native parents\n",
    "    total_sample_non = childrendf_nonnative['PWGTP'].sum()\n",
    "    total_uninsur_non = childrendf_nonnative[childrendf_nonnative['HICOV'] == 2].PWGTP.sum()\n",
    "    total_medicaid_non = childrendf_nonnative[childrendf_nonnative['HINS4'] == 1].PWGTP.sum()\n",
    "    \n",
    "    values = [state, total_sample, total_uninsur, total_medicaid, total_sample_non, total_uninsur_non, total_medicaid_non]\n",
    "    if init == 0:\n",
    "        statesdf18 = pd.DataFrame([values], columns = column_names)\n",
    "        init = 1\n",
    "    else:\n",
    "        statesdf18 = statesdf16.append(pd.DataFrame([values], columns = column_names))\n",
    "        "
   ]
  },
  {
   "cell_type": "code",
   "execution_count": null,
   "metadata": {},
   "outputs": [],
   "source": [
    "# Save our data as CSV files\n",
    "statesdf16.to_csv('states16_weighted.csv')\n",
    "statesdf17.to_csv('states17_weighted.csv')\n",
    "statesdf18.to_csv('states18_weighted.csv')"
   ]
  },
  {
   "cell_type": "markdown",
   "metadata": {},
   "source": [
    "How many samples are there *without* multiplying by the weights?"
   ]
  },
  {
   "cell_type": "code",
   "execution_count": null,
   "metadata": {},
   "outputs": [],
   "source": [
    "# Dataframe: 2016 sample for US-citizen children with non-nat parents NO WEIGHTS\n",
    "init = 0\n",
    "column_names = ['State','Total US-cit children native parents','Total US-cit children native parents uninsured',\n",
    "                'Total US-cit children native parents medicaid', 'Total US-cit children non-native parents', \n",
    "                'Total US-cit children non-native parents uninsured','Total US-cit children non-native parents medicaid']\n",
    "for state, code in zip(states,statecodes):\n",
    "    statedf = census16[census16['ST'] == int(code)] # For this state\n",
    "    childrendf = statedf[statedf['AGEP'] <= 19] # Get the Children\n",
    "    childrendf = childrendf[childrendf['CIT'].isin([1,2,3,4])] # That are citizens\n",
    "    \n",
    "    childrendf_native = childrendf[childrendf['NOP'].isin([1,5,7])] # That have native parents\n",
    "    total_sample = len(childrendf_native) # total children like this\n",
    "    total_uninsur = len(childrendf_native[childrendf_native['HICOV'] == 2]) # total uninsured children liek this\n",
    "    total_medicaid = len(childrendf_native[childrendf_native['HINS4'] == 1]) # total on medicaid\n",
    "    \n",
    "    childrendf_nonnative = childrendf[childrendf['NOP'].isin([2,3,4,6,8])] # That have non-native parents\n",
    "    total_sample_non = len(childrendf_nonnative)\n",
    "    total_uninsur_non = len(childrendf_nonnative[childrendf_nonnative['HICOV'] == 2])\n",
    "    total_medicaid_non = len(childrendf_nonnative[childrendf_nonnative['HINS4'] == 1])\n",
    "    \n",
    "    values = [state, total_sample, total_uninsur, total_medicaid, total_sample_non, total_uninsur_non, total_medicaid_non]\n",
    "    if init == 0:\n",
    "        statesdf16 = pd.DataFrame([values], columns = column_names)\n",
    "        init = 1\n",
    "    else:\n",
    "        statesdf16 = statesdf16.append(pd.DataFrame([values], columns = column_names))\n",
    "        "
   ]
  },
  {
   "cell_type": "code",
   "execution_count": null,
   "metadata": {},
   "outputs": [],
   "source": [
    "# Dataframe: 2017 sample for US-citizen children with non-nat parents NO WEIGHTS\n",
    "init = 0\n",
    "column_names = ['State','Total US-cit children native parents','Total US-cit children native parents uninsured',\n",
    "                'Total US-cit children native parents medicaid', 'Total US-cit children non-native parents', \n",
    "                'Total US-cit children non-native parents uninsured','Total US-cit children non-native parents medicaid']\n",
    "for state, code in zip(states,statecodes):\n",
    "    statedf = census17[census17['ST'] == int(code)] # For this state\n",
    "    childrendf = statedf[statedf['AGEP'] <= 19] # Get the Children\n",
    "    childrendf = childrendf[childrendf['CIT'].isin([1,2,3,4])] # That are citizens\n",
    "    \n",
    "    childrendf_native = childrendf[childrendf['NOP'].isin([1,5,7])] # That have native parents\n",
    "    total_sample = len(childrendf_native) # total children like this\n",
    "    total_uninsur = len(childrendf_native[childrendf_native['HICOV'] == 2]) # total uninsured children liek this\n",
    "    total_medicaid = len(childrendf_native[childrendf_native['HINS4'] == 1]) # total on medicaid\n",
    "    \n",
    "    childrendf_nonnative = childrendf[childrendf['NOP'].isin([2,3,4,6,8])] # That have non-native parents\n",
    "    total_sample_non = len(childrendf_nonnative)\n",
    "    total_uninsur_non = len(childrendf_nonnative[childrendf_nonnative['HICOV'] == 2])\n",
    "    total_medicaid_non = len(childrendf_nonnative[childrendf_nonnative['HINS4'] == 1])\n",
    "    \n",
    "    values = [state, total_sample, total_uninsur, total_medicaid, total_sample_non, total_uninsur_non, total_medicaid_non]\n",
    "    if init == 0:\n",
    "        statesdf17 = pd.DataFrame([values], columns = column_names)\n",
    "        init = 1\n",
    "    else:\n",
    "        statesdf17 = statesdf17.append(pd.DataFrame([values], columns = column_names))\n",
    "        "
   ]
  },
  {
   "cell_type": "code",
   "execution_count": null,
   "metadata": {},
   "outputs": [],
   "source": [
    "# Dataframe: 2018 sample for US-citizen children with non-nat parents NO WEIGHTS\n",
    "init = 0\n",
    "column_names = ['State','Total US-cit children native parents','Total US-cit children native parents uninsured',\n",
    "                'Total US-cit children native parents medicaid', 'Total US-cit children non-native parents', \n",
    "                'Total US-cit children non-native parents uninsured','Total US-cit children non-native parents medicaid']\n",
    "for state, code in zip(states,statecodes):\n",
    "    statedf = census18[census18['ST'] == int(code)] # For this state\n",
    "    childrendf = statedf[statedf['AGEP'] <= 19] # Get the Children\n",
    "    childrendf = childrendf[childrendf['CIT'].isin([1,2,3,4])] # That are citizens\n",
    "    \n",
    "    childrendf_native = childrendf[childrendf['NOP'].isin([1,5,7])] # That have native parents\n",
    "    total_sample = len(childrendf_native) # total children like this\n",
    "    total_uninsur = len(childrendf_native[childrendf_native['HICOV'] == 2]) # total uninsured children liek this\n",
    "    total_medicaid = len(childrendf_native[childrendf_native['HINS4'] == 1]) # total on medicaid\n",
    "    \n",
    "    childrendf_nonnative = childrendf[childrendf['NOP'].isin([2,3,4,6,8])] # That have non-native parents\n",
    "    total_sample_non = len(childrendf_nonnative)\n",
    "    total_uninsur_non = len(childrendf_nonnative[childrendf_nonnative['HICOV'] == 2])\n",
    "    total_medicaid_non = len(childrendf_nonnative[childrendf_nonnative['HINS4'] == 1])\n",
    "    \n",
    "    values = [state, total_sample, total_uninsur, total_medicaid, total_sample_non, total_uninsur_non, total_medicaid_non]\n",
    "    if init == 0:\n",
    "        statesdf18 = pd.DataFrame([values], columns = column_names)\n",
    "        init = 1\n",
    "    else:\n",
    "        statesdf18 = statesdf18.append(pd.DataFrame([values], columns = column_names))\n",
    "        "
   ]
  },
  {
   "cell_type": "code",
   "execution_count": null,
   "metadata": {},
   "outputs": [],
   "source": [
    "# Save our data as CSV files\n",
    "statesdf16.to_csv('states16_unweighted.csv')\n",
    "statesdf17.to_csv('states17_unweighted.csv')\n",
    "statesdf18.to_csv('states18_unweighted.csv')"
   ]
  },
  {
   "cell_type": "code",
   "execution_count": null,
   "metadata": {},
   "outputs": [],
   "source": []
  }
 ],
 "metadata": {
  "kernelspec": {
   "display_name": "Python 3",
   "language": "python",
   "name": "python3"
  },
  "language_info": {
   "codemirror_mode": {
    "name": "ipython",
    "version": 3
   },
   "file_extension": ".py",
   "mimetype": "text/x-python",
   "name": "python",
   "nbconvert_exporter": "python",
   "pygments_lexer": "ipython3",
   "version": "3.7.3"
  }
 },
 "nbformat": 4,
 "nbformat_minor": 2
}
